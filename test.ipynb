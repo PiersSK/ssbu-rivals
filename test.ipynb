{
 "cells": [
  {
   "cell_type": "code",
   "execution_count": 1,
   "metadata": {},
   "outputs": [],
   "source": [
    "import json"
   ]
  },
  {
   "cell_type": "code",
   "execution_count": 5,
   "metadata": {},
   "outputs": [
    {
     "data": {
      "text/plain": [
       "{'Mario': '#FF4026',\n",
       " 'Donkey Kong': '#F9DA4A',\n",
       " 'Link': '#1C94C3',\n",
       " 'Samus': '#3F5B6F',\n",
       " 'Dark Samus': '#3D3B9E',\n",
       " 'Yoshi': '#83DC65',\n",
       " 'Kirby': '#FDE6D3',\n",
       " 'Fox': '#307C6F',\n",
       " 'Pikachu': '#FFB912',\n",
       " 'Luigi': '#5EA44A',\n",
       " 'Ness': '#DE4139',\n",
       " 'Captain Falcon': '#8E8DDC',\n",
       " 'Jigglypuff': '#F2D6FB',\n",
       " 'Peach': '#F5CF90',\n",
       " 'Daisy': '#F0BB2C',\n",
       " 'Bowser': '#44745E',\n",
       " 'Ice Climbers': '#A0CAF6',\n",
       " 'Shiek': '#756FDD',\n",
       " 'Zelda': '#FDAA4E',\n",
       " 'Dr. Mario': '#E886CD',\n",
       " 'Pichu': '#DEDF1C',\n",
       " 'Falco': '#69D6E0',\n",
       " 'Marth': '#5DA8C8',\n",
       " 'Lucina': '#7EA6C7',\n",
       " 'Young Link': '#A5D160',\n",
       " 'Ganondorf': '#797A44',\n",
       " 'Mewtwo': '#9D7B76',\n",
       " 'Roy': '#7AB65D',\n",
       " 'Chrom': '#B4B4CF',\n",
       " 'Mr. Game & Watch': '#A4A190',\n",
       " 'Meta Knight': '#5367B0',\n",
       " 'Pit': '#ACDAFA',\n",
       " 'Dark Pit': '#875CBE',\n",
       " 'Zero Suit Samus': '#205B4A',\n",
       " 'Wario': '#FEE71F',\n",
       " 'Snake': '#658198',\n",
       " 'Ike': '#B64F36',\n",
       " 'PokÃ©mon Trainer': '#FFC004',\n",
       " 'Diddy Kong': '#AE524A',\n",
       " 'Lucas': '#E06833',\n",
       " 'Sonic': '#69D5E6',\n",
       " 'King Dedede': '#FC8B78',\n",
       " 'Olimar': '#CCF6B0',\n",
       " 'Lucario': '#8E3F6F',\n",
       " 'R.O.B.': '#B2B8DD',\n",
       " 'Toon Link': '#BCE689',\n",
       " 'Wolf': '#CCCCCC',\n",
       " 'Villager': '#83BA8E',\n",
       " 'Mega Man': '#81C6E0',\n",
       " 'Wii Fit Trainer': '#9DD481',\n",
       " 'Rosalina & Luma': '#98D5CD',\n",
       " 'Little Mac': '#5D8F72',\n",
       " 'Greninja': '#587A35',\n",
       " 'Mii Fighter': '#5D6C16',\n",
       " 'Palutena': '#91E5C1',\n",
       " 'Pac-Man': '#FCB541',\n",
       " 'Robin': '#C3B790',\n",
       " 'Shulk': '#D56A74',\n",
       " 'Bowser Jr.': '#59BF38',\n",
       " 'Duck Hunt': '#8C5D3A',\n",
       " 'Ryu': '#D0504D',\n",
       " 'Ken': '#C0D7DC',\n",
       " 'Cloud': '#419384',\n",
       " 'Corrin': '#63A7C0',\n",
       " 'Bayonetta': '#A5A10E',\n",
       " 'Inkling': '#F02D7D',\n",
       " 'Ridley': '#71456F',\n",
       " 'Simon': '#76150E',\n",
       " 'Richter': '#2A6B8D',\n",
       " 'King K. Rool': '#6B5738',\n",
       " 'Isabelle': '#C4D37E',\n",
       " 'Incineroar': '#FFD902',\n",
       " 'Piranha Plant': '#E23A3A',\n",
       " 'Joker': '#B41201',\n",
       " 'Hero': '#C8D3F4',\n",
       " 'Banjo & Kazooie': '#FCD776',\n",
       " 'Terry': '#6F595D',\n",
       " 'Byleth': '#CEDE04',\n",
       " 'Min Min': '#FFF55A',\n",
       " 'Steve': '#B8FFF7',\n",
       " 'Sephiroth': '#3A4B4B',\n",
       " 'Aegis': '#69E6C3',\n",
       " 'Kazuya': '#A52319',\n",
       " 'Sora': '#F0F9F9'}"
      ]
     },
     "execution_count": 5,
     "metadata": {},
     "output_type": "execute_result"
    }
   ],
   "source": [
    "\n",
    "x = json.load(open(\"data/character_colours.json\"))\n",
    "x"
   ]
  },
  {
   "cell_type": "code",
   "execution_count": null,
   "metadata": {},
   "outputs": [],
   "source": []
  }
 ],
 "metadata": {
  "kernelspec": {
   "display_name": "Python 3",
   "language": "python",
   "name": "python3"
  },
  "language_info": {
   "codemirror_mode": {
    "name": "ipython",
    "version": 3
   },
   "file_extension": ".py",
   "mimetype": "text/x-python",
   "name": "python",
   "nbconvert_exporter": "python",
   "pygments_lexer": "ipython3",
   "version": "3.12.2"
  }
 },
 "nbformat": 4,
 "nbformat_minor": 2
}
